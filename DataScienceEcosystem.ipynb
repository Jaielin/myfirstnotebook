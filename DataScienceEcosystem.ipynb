{
 "cells": [
  {
   "cell_type": "markdown",
   "id": "f8f9b5de-8689-41f7-9777-6871b11b4433",
   "metadata": {
    "tags": []
   },
   "source": [
    "# Data Science Tools and Ecosystems"
   ]
  },
  {
   "cell_type": "markdown",
   "id": "a9a0dc47-68d8-4051-831e-1c3ca455f7a5",
   "metadata": {},
   "source": [
    "In this notebook, Data science Tools and Ecosystems are summarized."
   ]
  },
  {
   "cell_type": "markdown",
   "id": "9e782d87-d415-4981-a987-73d229c21c58",
   "metadata": {},
   "source": [
    "Objectives:\n",
    "- List popular languages\n",
    "- List popular libraries\n",
    "- open source enviroments\n",
    "- arithmetic expressions\n"
   ]
  },
  {
   "cell_type": "markdown",
   "id": "4d7ce0a9-9a81-4e87-8556-5dfb17ec7ecd",
   "metadata": {
    "tags": []
   },
   "source": [
    "Some of the popular languages in Data Science are:\n",
    "   \n",
    "1. R\n",
    "2. SQL\n",
    "3. Python"
   ]
  },
  {
   "cell_type": "markdown",
   "id": "2c40142d-aa2f-4afd-9e0e-1e0aa54f5d7a",
   "metadata": {},
   "source": [
    "Some of the commonly used libraries in Data Science are:\n",
    "    \n",
    "1. TensorFlow\n",
    "2. NumPy.\n",
    "3. SciPy\n",
    "4. Pandas"
   ]
  },
  {
   "cell_type": "markdown",
   "id": "d11aaf36-c152-4b1e-b417-d2e0ff5e5cf6",
   "metadata": {},
   "source": [
    "|Data Science Tools|\n",
    "|------------------|\n",
    "|RStudio|\n",
    "|Apache Spark|\n",
    "|TensorFlow|\n",
    "|Apache Hadoop|"
   ]
  },
  {
   "cell_type": "markdown",
   "id": "aa6edb84-3e1e-4120-989e-c864ca28cf9d",
   "metadata": {},
   "source": [
    "### Below are a few examples of evaluating arithmetic expressions in Python\n",
    "\n",
    "- 3+9\n",
    "- 8*8\n",
    "- 64/8"
   ]
  },
  {
   "cell_type": "code",
   "execution_count": 4,
   "id": "97aa81a5-d173-4894-99c5-c9d754816601",
   "metadata": {},
   "outputs": [
    {
     "data": {
      "text/plain": [
       "88"
      ]
     },
     "execution_count": 4,
     "metadata": {},
     "output_type": "execute_result"
    }
   ],
   "source": [
    "# This a simple arithmetic expression to mutiply then add integers\n",
    "(9*9)+7"
   ]
  },
  {
   "cell_type": "code",
   "execution_count": 5,
   "id": "5bdf60a6-46d9-4474-b20c-76cd853ba947",
   "metadata": {},
   "outputs": [
    {
     "data": {
      "text/plain": [
       "3.3333333333333335"
      ]
     },
     "execution_count": 5,
     "metadata": {},
     "output_type": "execute_result"
    }
   ],
   "source": [
    "#This will convert 200 minutes to hours by diving by 60\n",
    "200/60"
   ]
  },
  {
   "cell_type": "markdown",
   "id": "ab07b409-60cf-40b7-b239-d042bccf8984",
   "metadata": {},
   "source": [
    "## Author\n",
    "Jairus Noor"
   ]
  },
  {
   "cell_type": "code",
   "execution_count": null,
   "id": "c8ae91a5-79e9-4caf-87d3-a17af8f1e6c0",
   "metadata": {},
   "outputs": [],
   "source": []
  }
 ],
 "metadata": {
  "kernelspec": {
   "display_name": "Python 3 (ipykernel)",
   "language": "python",
   "name": "python3"
  },
  "language_info": {
   "codemirror_mode": {
    "name": "ipython",
    "version": 3
   },
   "file_extension": ".py",
   "mimetype": "text/x-python",
   "name": "python",
   "nbconvert_exporter": "python",
   "pygments_lexer": "ipython3",
   "version": "3.10.9"
  }
 },
 "nbformat": 4,
 "nbformat_minor": 5
}
